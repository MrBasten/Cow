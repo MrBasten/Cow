{
 "cells": [
  {
   "cell_type": "code",
   "execution_count": 2,
   "metadata": {},
   "outputs": [],
   "source": [
    "import trimesh\n",
    "import pycork\n",
    "import numpy as np\n",
    "import os\n",
    "from pathlib import Path\n",
    "from typing import Union\n",
    "import pyvista \n",
    "import pyacvd\n",
    "import subprocess"
   ]
  },
  {
   "cell_type": "markdown",
   "metadata": {},
   "source": [
    "Problems:\n",
    "Нету функции для merge by vertices, поэтому у нас требование, чтобы модель была вотертай изначально!"
   ]
  },
  {
   "cell_type": "code",
   "execution_count": 3,
   "metadata": {},
   "outputs": [],
   "source": [
    "def Fix(mesh): # фиксы проблем с нормалями и остальным (как будто по ракете кто-то стрелял). Возможно, придётся применять на каждом шагу \n",
    "    trimesh.repair.fix_inversion(mesh)\n",
    "    trimesh.repair.fix_normals(mesh)\n",
    "    trimesh.repair.fix_winding(mesh)"
   ]
  },
  {
   "cell_type": "code",
   "execution_count": 4,
   "metadata": {},
   "outputs": [],
   "source": [
    "def save_to_obj(path, out_path):\n",
    "    mesh = trimesh.load(path)\n",
    "    trimesh.exchange.export.export_mesh(mesh, f'{out_path}/obj_correct_rocket.obj.', 'obj')"
   ]
  },
  {
   "cell_type": "code",
   "execution_count": 5,
   "metadata": {},
   "outputs": [],
   "source": [
    "def load_trimesh_obj(path: Union[str, os.PathLike]) -> trimesh.Trimesh: #загружает файл из папки и в файле не один объект, а несколько, то он в сцене пытается объеденить объекты в одно множество. А дальше сохраняет в переменную obj геометрию для дальнейшей работы\n",
    "    obj = trimesh.load(path)\n",
    "    if type(obj) == trimesh.base.Trimesh:\n",
    "        return obj\n",
    "    elif type(obj) == trimesh.scene.scene.Scene:\n",
    "        yourList = obj.geometry.items()\n",
    "        vertice_list = [mesh.vertices for _, mesh in yourList]\n",
    "        faces_list = [mesh.faces for _, mesh in yourList]\n",
    "        faces_offset = np.cumsum([v.shape[0] for v in vertice_list])\n",
    "        faces_offset = np.insert(faces_offset, 0, 0)[:-1]\n",
    "\n",
    "        vertices = np.vstack(vertice_list)\n",
    "        faces = np.vstack([face + offset for face, offset in zip(faces_list, faces_offset)])\n",
    "\n",
    "        merged__meshes = trimesh.Trimesh(vertices, faces)\n",
    "        return merged__meshes\n",
    "    else:\n",
    "        raise Exception('Unknown type of extension!')"
   ]
  },
  {
   "cell_type": "code",
   "execution_count": 6,
   "metadata": {},
   "outputs": [],
   "source": [
    "def union_itself(mesh: trimesh.base.Trimesh) -> trimesh.base.Trimesh: # МАКСОН ТОПОВЫЙ ЧЕЛ!!!!!!! Работа с пересечением + разделение\n",
    "    connected_groups = mesh.split(only_watertight= False)\n",
    "    verts = [m.vertices for m in connected_groups if m.is_watertight]\n",
    "    tris = [m.faces for m in connected_groups if m.is_watertight]\n",
    "    for m in connected_groups:\n",
    "        a = 0\n",
    "        if not(m.is_watertight):\n",
    "            \n",
    "            trimesh.exchange.export.export_mesh(m, 'union_itself\\\\union_itself_{}.obj'.format(a), 'obj')\n",
    "            a += 1\n",
    "    vert_tmp, tris_tmp = pycork.union(verts[0], tris[0], \n",
    "                                         verts[1], tris[1])\n",
    "    \n",
    "    if len(connected_groups) == 2:\n",
    "        mesh_res = trimesh.Trimesh(vertices=vert_tmp, faces=tris_tmp, process=True)\n",
    "        \n",
    "    elif len(connected_groups) > 2:\n",
    "        for v, t in zip(verts[2:], tris[2:]):\n",
    "            vert_tmp, tris_tmp = pycork.union(vert_tmp, tris_tmp, v, t)\n",
    "        \n",
    "        mesh_res = trimesh.Trimesh(vertices=vert_tmp, faces=tris_tmp, process=True)\n",
    "\n",
    "    trimesh.exchange.export.export_mesh(mesh_res, 'union_itself\\\\union_itself_{}.obj'.format(a + 1), 'obj')"
   ]
  },
  {
   "cell_type": "code",
   "execution_count": 7,
   "metadata": {},
   "outputs": [],
   "source": [
    "def manifold(path, out_path):\n",
    "    list_obj = os.listdir(f'{path}')\n",
    "    for i in range(len(list_obj)):\n",
    "        subprocess.run(f\"manifold.exe --input {path}/{list_obj[i]} --output {out_path}/manifold_{i}.obj --depth 8\", shell=True)"
   ]
  },
  {
   "cell_type": "code",
   "execution_count": 8,
   "metadata": {},
   "outputs": [],
   "source": [
    "def pyacvd_process(path, out_path): #работает на 100%\n",
    "    list_obj = os.listdir(f'{path}')\n",
    "    for i in range(len(list_obj)):\n",
    "        rocket = pyvista.PolyData(f'{path}/{list_obj[i]}')\n",
    "        clus = pyacvd.Clustering(rocket)\n",
    "        clus.subdivide(3)\n",
    "        clus.cluster(20000)\n",
    "        remesh = clus.create_mesh()\n",
    "        pyvista.save_meshio(f'{out_path}/pyacvd_{i}.obj', remesh, file_format='obj') "
   ]
  },
  {
   "cell_type": "code",
   "execution_count": 9,
   "metadata": {},
   "outputs": [],
   "source": [
    "def smoothing(path, out_path): #работает на 100%\n",
    "    list_obj = os.listdir(f'{path}')\n",
    "    for i in range(len(list_obj)):\n",
    "        for _ in range(10):\n",
    "            mesh = trimesh.load(f'{path}/{list_obj[i]}')\n",
    "            Fix(mesh)\n",
    "            smoothing_mesh = trimesh.smoothing.filter_humphrey(mesh)\n",
    "            trimesh.exchange.export.export_mesh(smoothing_mesh, f'{out_path}/final_mesh{i}.obj', 'obj')"
   ]
  },
  {
   "cell_type": "code",
   "execution_count": 10,
   "metadata": {},
   "outputs": [],
   "source": [
    "def assembling(path, out_path): # объединение всего в один объект, то есть в сцене объединяются все объекты воедино\n",
    "    final_object = trimesh.scene.scene.Scene()\n",
    "    list_obj = os.listdir(f'{path}')\n",
    "    for i in range(len(list_obj)):\n",
    "        mesh = trimesh.load_mesh(f'{path}/{list_obj[i]}')\n",
    "        Fix(mesh)\n",
    "        final_object.add_geometry(mesh)\n",
    "    trimesh.exchange.export.export_scene(final_object, f'{out_path}/assembling.obj', 'obj')\n"
   ]
  },
  {
   "cell_type": "code",
   "execution_count": 11,
   "metadata": {},
   "outputs": [],
   "source": [
    "def main(path, out_path):\n",
    "    save_to_obj(path, \"C:/Users/USER/Desktop/staja/save_to_obj\")\n",
    "    input_obj = load_trimesh_obj(\"C:/Users/USER/Desktop/staja/save_to_obj/obj_correct_rocket.obj\")\n",
    "    union_itself(input_obj)\n",
    "    manifold(\"C:/Users/USER/Desktop/staja/union_itself\", \"C:/Users/USER/Desktop/staja/manifold\")\n",
    "    assembling(\"C:/Users/USER/Desktop/staja/manifold\", \"C:/Users/USER/Desktop/staja/assembling\")\n",
    "    pyacvd_process(\"C:/Users/USER/Desktop/staja/assembling\", \"C:/Users/USER/Desktop/staja/pyacvd\") # работает на 100%\n",
    "    smoothing(\"C:/Users/USER/Desktop/staja/pyacvd\", out_path) # работает на 100%\n",
    "        \n",
    "if __name__ == '__main__':\n",
    "    main(path = \"C:/Users/USER/Desktop/staja/input/correct_rocket.stl\", out_path = \"C:/Users/USER/Desktop/staja/output\")"
   ]
  }
 ],
 "metadata": {
  "kernelspec": {
   "display_name": "Cow",
   "language": "python",
   "name": "python3"
  },
  "language_info": {
   "codemirror_mode": {
    "name": "ipython",
    "version": 3
   },
   "file_extension": ".py",
   "mimetype": "text/x-python",
   "name": "python",
   "nbconvert_exporter": "python",
   "pygments_lexer": "ipython3",
   "version": "3.10.11"
  },
  "orig_nbformat": 4
 },
 "nbformat": 4,
 "nbformat_minor": 2
}
